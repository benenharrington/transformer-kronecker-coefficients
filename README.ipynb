{
 "cells": [
  {
   "cell_type": "markdown",
   "metadata": {},
   "source": [
    "## Introduction\n",
    "\n",
    "Let $n$ be a positive integer and $S_n$ the symmetric group on $n$ letters. For a partition $\\lambda \\dashv n$, let $V_\\lambda$ denote the irreducible rational representation of $S_n$ corresponding to $\\lambda$. For further partitions $\\mu, \\nu \\dashv n$, the Kronecker coefficients $c_{\\mu\\nu}^\\lambda$ are defined by \n",
    "$$V_\\mu \\otimes V_\\nu = \\bigoplus_{\\lambda \\dashv n}V_\\lambda^{\\oplus c_{\\mu\\nu}^\\lambda}$$"
   ]
  },
  {
   "cell_type": "markdown",
   "metadata": {},
   "source": [
    "One way of computing the Kronecker coefficients is to determine the direct sum decomposition above using the character theory of the symmetric group. The Kronecker coefficients can also be described in terms of the representation theory of the general linear group, and this provides another route for their computation. \n",
    "\n",
    "It has long been conjectured that there exists a combinatorial description of the Kronecker coefficients, where $c_{\\mu\\nu}^\\lambda$ can be computed only by reference to the triple $(\\mu, \\nu, \\lambda)$. Such descriptions are currently known only for certain families of triples. We give one example as follows. For a partition $\\chi = (\\chi_1, \\ldots , \\chi_k)$ of some $m < n$ with $n-m \\geq \\chi_1$, write $n(\\chi_1, \\ldots , \\chi_k)$ for the partition $(n-m, \\chi_1, \\ldots , \\chi_k)$ of $n$. Then for any $n \\geq 4$ we have \n",
    "$$V_{n(1)}\\otimes V_{n(1)} = V_{n(0)} \\oplus V_{n(1)} \\oplus V_{n(2)} \\oplus V_{n(1, 1)}\n",
    "$$"
   ]
  },
  {
   "cell_type": "markdown",
   "metadata": {},
   "source": [
    "This repository contains a notebook for training a machine learning model that takes as input a triple $(\\mu, \\nu, \\lambda),$ and outputs a prediction for whether or not the coefficient $c^\\lambda_{\\mu\\nu}$ is zero, a slightly easier problem than actually computing the value itself. The plan is that this will fail, because there probably is not a combinatorial formula for computing the Kronecker coefficients in general. "
   ]
  },
  {
   "cell_type": "markdown",
   "metadata": {},
   "source": [
    "It's very easy to design a model that fails to learn a prediction task. So this repository will also contain a notebook for training a model to predict the vanishing behaviour of the Littlewood-Richardson coefficients, a similarly-defined collection of numbers for which a combinatorial method of computation is known to exist. Showing that the same model can solve one prediction task but not the other will hopefully convey in some vague way that one of these tasks is more difficult than the other."
   ]
  },
  {
   "cell_type": "markdown",
   "metadata": {},
   "source": [
    "Of course, we should already have this vague understanding that one is more difficult because people have spent 80 years trying to find a combinatorial description of the Kronecker coefficients and have failed to do so. And people have already made precise the fact that the Littlewood-Richardson coefficients are 'easier' than the Kronecker coefficients using [a computational complexity argument](https://arxiv.org/abs/1507.02955). And whether or not you can train a model to do something is not a reliable indicator of whether that task is difficult or not. So this is very much a toy project that isn't really suitable for drawing any real conclusions from."
   ]
  },
  {
   "cell_type": "markdown",
   "metadata": {},
   "source": [
    "## Littlewood-Richardson coefficients\n",
    "\n",
    "For positive integers $n, m$ and partitions $\\mu \\dashv n$, $\\nu \\dashv m$, the representation $V_\\mu \\otimes V_\\nu$ of $S_n \\times S_m$ is irreducible, and all irreducible rational representations of $S_n \\times S_m$ are of this form. For $\\lambda$ a partition of $n+m$, the representation $V_\\lambda$ of $S_{n+m}$ restricts to a representation $V_\\lambda\\downarrow_{S_n\\times S_m}$ of $S_{n}\\times S_m$. The Littlewood-Richardson coefficients $b^\\lambda_{\\mu\\nu}$ are defined by \n",
    "$$V_\\lambda\\downarrow_{S_n\\times S_m} = \\bigoplus_{\\mu \\dashv n,~ \\nu \\dashv m} (V_\\mu \\otimes V_\\nu)^{\\oplus b_{\\mu\\nu}^\\lambda}$$"
   ]
  },
  {
   "cell_type": "markdown",
   "metadata": {},
   "source": [
    "As in the case of the Kronecker coefficients, these coefficients can be computed with knowledge of the relevant character tables of the symmetric groups. Unlike the Kronecker coefficients, there is also a known combinatorial description, [given here](https://en.wikipedia.org/wiki/Littlewood%E2%80%93Richardson_rule#Littlewood%E2%80%93Richardson_tableaux)."
   ]
  },
  {
   "cell_type": "markdown",
   "metadata": {},
   "source": [
    "## Model architecture\n",
    "\n",
    "The inspiration for this toy project comes from [a paper that trains a model to generate solutions to differential equations](https://arxiv.org/abs/1912.01412), and we follow their lead in also using a transformer. \n",
    "\n",
    "We set the internal dimension to 200, the number of layers to 4, and perform multi-headed attention with 10 heads. I didn't put much thought into this -- this was the first configuration I tried, and since this was sufficient for solving the problem of predicting Littlewood-Richardson coefficients, and since it took over a day to train on my 2014 MacBook Pro, I didn't experiment further.\n",
    "\n",
    "The only part of the pipeline unique to this problem is how to represent the input data $(\\mu, \\nu, \\lambda)$.\n",
    "\n",
    "Since a partition $\\mu = (\\mu_1, \\ldots , \\mu_k)$ is simply a tuple of non-negative integers, it makes sense to learn an embedding matrix $A$ that will represent this as a tuple of vectors ($A\\mu_1, \\ldots , A\\mu_k)$. Let $a_i$ denote the vector image of the integer $i$ under this embedding. Then the tuple of vectors is given by $(a_{\\mu_1}, \\ldots , a_{\\mu_k})$.\n",
    "\n",
    "Since the transformer architecture has no knowledge of the order of the given tuples, we train an additional embedding matrix $B$. With notation as above, for a partition $(\\mu_1, \\ldots , \\mu_k)$, we represent the positional information with the tuple $(b_1, \\ldots , b_k)$. This is possibly unnecessary since a partition is determined by the set of its parts anyway, but lots of operations with partitions are made easier by ordering the parts, so we may as well save the model the hassle of keeping track.\n",
    "\n",
    "Finally, we add further positional information in order to distinguish the three input partitions by training an embedding matrix $C$. \n",
    "\n",
    "To give a concrete example, suppose $\\mu = (3), \\nu = (2, 1)$ and $\\lambda = (1, 1, 1)$. The input data will be represented by the tuples of vectors\n",
    "\n",
    "\\begin{align} \n",
    "a &= (a_3, a_2, a_1, a_1, a_1, a_1), \\\\\n",
    "b &= (b_1, b_1, b_2, b_1, b_2, b_3), \\\\\n",
    "c &= (c_1, c_2, c_2, c_3, c_3, c_3)\n",
    "\\end{align}\n",
    "\n",
    "In order to 'remind' the model of the positional information, we add $b + c$ to the output of each round of attention. \n",
    "\n",
    "In order to handle variable input lengths, we pad all inputs to a fixed length and mask appropriately throughout the model. To arrive at a prediction, we take the average of the outputs and apply a sigmoid operator."
   ]
  },
  {
   "cell_type": "markdown",
   "metadata": {},
   "source": [
    "## Data\n",
    "\n",
    "Data is generated using [symchar](https://github.com/benenharrington/symchar). We set the maximum number of parts of a partition to 10, the maximumum part value to 10, and generate a complete set of coefficients satisfying these constraints for all $S_n$ up to $n=15$. We hold a 10% sample for validation.\n",
    "\n",
    "Since the coefficients are symmetric in $\\mu$ and $\\nu$, and since they appear in various linear relationships with one another, there are plenty of ways information from the training set may 'leak' into the validation set. We're not going to worry about this at all, because we're only really interested in the relative difference between performance for Kronecker coefficients and performance for Littlewood-Richardson coefficients."
   ]
  },
  {
   "cell_type": "markdown",
   "metadata": {},
   "source": [
    "## Performance"
   ]
  },
  {
   "cell_type": "markdown",
   "metadata": {},
   "source": [
    "There are several ways we might measure performance. Treating each individual coefficient's vanishing behaviour as a prediction task, we could measure the overall accuracy. Random guessing would get 50%. Always guessing the most common label (non-vanishing) would get around 70% for our two datasets. \n",
    "\n",
    "In the case of the Kronecker coefficients, for any given $(\\mu, \\nu)$ it would be natural to regard the non-vanishing behaviour of all $c_{\\mu\\nu}^\\lambda$ as a prediction task. Random guessing will give you close to 0% accuracy. Similarly for the Littlewood Richardson coefficients, for each partition $\\lambda$ we could regard the non-vanishing behaviour of all $b_{\\mu\\nu}^\\lambda$ as a prediction task.\n",
    "\n",
    "Since it turns out that the model learns to predict Littlewood-Richardson coefficients with 100% accuracy, it doesn't really matter which metric we choose for comparing with Kronecker coefficients:"
   ]
  },
  {
   "cell_type": "code",
   "execution_count": 25,
   "metadata": {},
   "outputs": [
    {
     "data": {
      "text/plain": [
       "(0, 5)"
      ]
     },
     "execution_count": 25,
     "metadata": {},
     "output_type": "execute_result"
    },
    {
     "data": {
      "image/png": "[encoded data removed]",
      "text/plain": [
       "<Figure size 432x288 with 1 Axes>"
      ]
     },
     "metadata": {},
     "output_type": "display_data"
    }
   ],
   "source": [
    "from matplotlib import pyplot as plt\n",
    "val_data_lr = [0.7, 0.9245, 0.9751, 0.9851, 0.9939, 0.9952]\n",
    "val_data_kron = [0.7, 0.8101, 0.8061, 0.8055, 0.8197, 0.8026]\n",
    "fig, ax = plt.subplots()\n",
    "ax.spines[\"right\"].set_visible(False)\n",
    "ax.spines[\"top\"].set_visible(False)\n",
    "plt.plot([i for i in range(0, 6)], val_data_lr, label='littlewood-richardson')\n",
    "plt.plot([i for i in range(0, 6)], val_data_kron, label='kronecker')\n",
    "plt.plot([i for i in range(0, 6)], [1 for i in range(0, 6)], '--', alpha=0.5)\n",
    "plt.xticks([i for i in range(0, 6)])\n",
    "plt.xlabel('epochs')\n",
    "plt.ylabel('validation accuracy')\n",
    "plt.legend()\n",
    "plt.ylim(0.5, 1.0)\n",
    "plt.xlim(0, 5)"
   ]
  },
  {
   "cell_type": "markdown",
   "metadata": {},
   "source": [
    "Depending on initial conditions, 100% accuracy is reached for Littlewood-Richardson coefficients within 10-20 epochs, whereas accuracy for Kronecker coefficients fails to improve after the first epoch."
   ]
  },
  {
   "cell_type": "markdown",
   "metadata": {},
   "source": [
    "## Next\n",
    "\n",
    "I think it'd be neat to split off the coefficients for any entire symmetric group as validation, and plot which sorts of partitions get 'solved' as the model trains. Soon!"
   ]
  },
  {
   "cell_type": "code",
   "execution_count": null,
   "metadata": {},
   "outputs": [],
   "source": []
  }
 ],
 "metadata": {
  "kernelspec": {
   "display_name": "Python 3",
   "language": "python",
   "name": "python3"
  },
  "language_info": {
   "name": ""
  }
 },
 "nbformat": 4,
 "nbformat_minor": 2
}
